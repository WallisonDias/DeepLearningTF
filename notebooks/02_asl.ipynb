{
 "cells": [
  {
   "attachments": {},
   "cell_type": "markdown",
   "metadata": {},
   "source": [
    "<center><a href=\"https://sites.google.com/fat.uerj.br/livia/\"> <img src=\"../images/capa2.png\" alt=\"Header\" style=\"width: 800px;\"/> </a></center>"
   ]
  },
  {
   "attachments": {},
   "cell_type": "markdown",
   "metadata": {},
   "source": [
    "[![Open In Colab](https://colab.research.google.com/assets/colab-badge.svg)](https://colab.research.google.com/github/vnikoofard/DeepLearningTF/blob/main/notebooks/02_asl.ipynb)"
   ]
  },
  {
   "attachments": {},
   "cell_type": "markdown",
   "metadata": {},
   "source": [
    "# Classificação de imagem para um conjunto de dados de língua de sinais americana"
   ]
  },
  {
   "attachments": {},
   "cell_type": "markdown",
   "metadata": {},
   "source": [
    "Nesta seção, executaremos as etapas de preparação de dados, criação de modelo e treinamento de modelo que observamos na última seção usando um conjunto de dados diferente: imagens de mãos fazendo letras em [American Sign Language](http://www.asl.gs)."
   ]
  },
  {
   "attachments": {},
   "cell_type": "markdown",
   "metadata": {},
   "source": [
    "## Objetivos"
   ]
  },
  {
   "attachments": {},
   "cell_type": "markdown",
   "metadata": {},
   "source": [
    "* Preparar dados de imagem para treinamento\n",
    "* Crie e compile um modelo simples para classificação de imagens\n",
    "* Treine um modelo de classificação de imagem e observe os resultados"
   ]
  },
  {
   "attachments": {},
   "cell_type": "markdown",
   "metadata": {},
   "source": [
    "## Conjunto de dados da língua de sinais americana"
   ]
  },
  {
   "attachments": {},
   "cell_type": "markdown",
   "metadata": {},
   "source": [
    "O [alfabeto da linguagem de sinais americana](http://www.asl.gs/) contém 26 letras. Duas dessas letras (j e z) requerem movimento, portanto, não são incluídas no conjunto de dados de treinamento."
   ]
  },
  {
   "attachments": {},
   "cell_type": "markdown",
   "metadata": {},
   "source": [
    "<img src=\"../images/asl.png\" style=\"width: 600px;\">"
   ]
  },
  {
   "attachments": {},
   "cell_type": "markdown",
   "metadata": {},
   "source": [
    "### Kaggle"
   ]
  },
  {
   "attachments": {},
   "cell_type": "markdown",
   "metadata": {},
   "source": [
    "Este conjunto de dados está disponível no site [Kaggle](http://www.kaggle.com), que é um lugar fantástico para encontrar conjuntos de dados e outros recursos de aprendizado profundo. Além de fornecer recursos como conjuntos de dados e \"kernels\" que são como esses notebooks, o Kaggle organiza competições das quais você pode participar, competindo com outras pessoas no treinamento de modelos de alta precisão.\n",
    "\n",
    "Se você deseja praticar ou ver exemplos de muitos projetos de aprendizado profundo, o Kaggle é um ótimo site para visitar."
   ]
  },
  {
   "attachments": {},
   "cell_type": "markdown",
   "metadata": {},
   "source": [
    "## Carregando os dados"
   ]
  },
  {
   "attachments": {},
   "cell_type": "markdown",
   "metadata": {},
   "source": [
    "Este conjunto de dados não está disponível via Keras da mesma forma que o MNIST, então vamos aprender como carregar dados personalizados. No final desta seção, teremos as variáveis `x_train`, `y_train`, `x_valid` e `y_valid` como antes."
   ]
  },
  {
   "attachments": {},
   "cell_type": "markdown",
   "metadata": {},
   "source": [
    "### Lendo nos Dados"
   ]
  },
  {
   "attachments": {},
   "cell_type": "markdown",
   "metadata": {},
   "source": [
    "O conjunto de dados da língua de sinais está no formato [CSV](https://en.wikipedia.org/wiki/Comma-separated_values) (valores separados por vírgula), a mesma estrutura de dados por trás do Microsoft Excel e do Planilhas Google. É uma grade de linhas e colunas com rótulos na parte superior, como visto nos conjuntos de dados [train](../data/asl_data/sign_mnist_train.csv) e [valid](../data/asl_data/sign_mnist_valid.csv) (eles podem demorar um pouco para carregar).\n",
    "\n",
    "Para carregar e trabalhar com os dados, usaremos uma biblioteca chamada [Pandas](https://pandas.pydata.org/), que é uma ferramenta de alto desempenho para carregar e manipular dados. Vamos ler os arquivos CSV em um formato chamado [DataFrame](https://pandas.pydata.org/pandas-docs/stable/reference/api/pandas.DataFrame.html)."
   ]
  },
  {
   "cell_type": "code",
   "execution_count": 1,
   "metadata": {},
   "outputs": [],
   "source": [
    "import pandas as pd"
   ]
  },
  {
   "attachments": {},
   "cell_type": "markdown",
   "metadata": {},
   "source": [
    "Pandas tem um método [read_csv](https://pandas.pydata.org/pandas-docs/stable/reference/api/pandas.read_csv.html) que espera um arquivo csv e retorna um DataFrame:"
   ]
  },
  {
   "cell_type": "code",
   "execution_count": 3,
   "metadata": {},
   "outputs": [],
   "source": [
    "train_url = \"https://github.com/vnikoofard/DeepLearningTF/raw/main/data/asl_data/sign_mnist_train.csv\"\n",
    "valid_url = \"https://github.com/vnikoofard/DeepLearningTF/raw/main/data/asl_data/sign_mnist_valid.csv\"\n",
    "\n",
    "train_df = pd.read_csv(train_url)\n",
    "valid_df = pd.read_csv(valid_url)"
   ]
  },
  {
   "attachments": {},
   "cell_type": "markdown",
   "metadata": {},
   "source": [
    "### Explorando os dados"
   ]
  },
  {
   "attachments": {},
   "cell_type": "markdown",
   "metadata": {},
   "source": [
    "Vamos dar uma olhada em nossos dados. Podemos usar o método [head](https://pandas.pydata.org/pandas-docs/stable/reference/api/pandas.DataFrame.head.html) para imprimir as primeiras linhas do DataFrame. Cada linha é uma imagem que possui uma coluna `label` e também 784 valores representando cada valor de pixel na imagem, assim como no conjunto de dados MNIST. Observe que os rótulos atualmente são valores numéricos, não letras do alfabeto:"
   ]
  },
  {
   "cell_type": "code",
   "execution_count": null,
   "metadata": {},
   "outputs": [],
   "source": [
    "train_df.head()"
   ]
  },
  {
   "attachments": {},
   "cell_type": "markdown",
   "metadata": {},
   "source": [
    "### Extraindo os rótulos"
   ]
  },
  {
   "attachments": {},
   "cell_type": "markdown",
   "metadata": {},
   "source": [
    "Assim como no MNIST, gostaríamos de armazenar nossos rótulos de treinamento e validação nas variáveis `y_train` e `y_valid`. Aqui criamos essas variáveis e, em seguida, excluímos os rótulos de nossos dataframes originais, onde não são mais necessários:"
   ]
  },
  {
   "cell_type": "code",
   "execution_count": null,
   "metadata": {},
   "outputs": [],
   "source": [
    "y_train = train_df['label']\n",
    "y_valid = valid_df['label']\n",
    "del train_df['label']\n",
    "del valid_df['label']"
   ]
  },
  {
   "attachments": {},
   "cell_type": "markdown",
   "metadata": {},
   "source": [
    "### Extraindo as Imagens"
   ]
  },
  {
   "attachments": {},
   "cell_type": "markdown",
   "metadata": {},
   "source": [
    "Assim como no MNIST, gostaríamos de armazenar nossas imagens de treinamento e validação nas variáveis `x_train` e `x_valid`. Aqui criamos essas variáveis:"
   ]
  },
  {
   "cell_type": "code",
   "execution_count": null,
   "metadata": {},
   "outputs": [],
   "source": [
    "x_train = train_df.values\n",
    "x_valid = valid_df.values"
   ]
  },
  {
   "attachments": {},
   "cell_type": "markdown",
   "metadata": {},
   "source": [
    "### Resumindo os dados de treinamento e validação"
   ]
  },
  {
   "attachments": {},
   "cell_type": "markdown",
   "metadata": {},
   "source": [
    "Agora temos 27.455 imagens com 784 pixels cada para treinamento..."
   ]
  },
  {
   "cell_type": "code",
   "execution_count": null,
   "metadata": {},
   "outputs": [],
   "source": [
    "x_train.shape"
   ]
  },
  {
   "attachments": {},
   "cell_type": "markdown",
   "metadata": {},
   "source": [
    "...bem como seus rótulos correspondentes:"
   ]
  },
  {
   "cell_type": "code",
   "execution_count": null,
   "metadata": {},
   "outputs": [],
   "source": [
    "y_train.shape"
   ]
  },
  {
   "attachments": {},
   "cell_type": "markdown",
   "metadata": {},
   "source": [
    "Para validação, temos 7.172 imagens..."
   ]
  },
  {
   "cell_type": "code",
   "execution_count": null,
   "metadata": {},
   "outputs": [],
   "source": [
    "x_valid.shape"
   ]
  },
  {
   "attachments": {},
   "cell_type": "markdown",
   "metadata": {},
   "source": [
    "...e seus rótulos correspondentes:"
   ]
  },
  {
   "cell_type": "code",
   "execution_count": null,
   "metadata": {},
   "outputs": [],
   "source": [
    "y_valid.shape"
   ]
  },
  {
   "attachments": {},
   "cell_type": "markdown",
   "metadata": {},
   "source": [
    "## Visualizando os Dados"
   ]
  },
  {
   "attachments": {},
   "cell_type": "markdown",
   "metadata": {},
   "source": [
    "Para visualizar as imagens, usaremos novamente a biblioteca matplotlib. Não precisamos nos preocupar com os detalhes dessa visualização, mas se estiver interessado, você pode aprender mais sobre [matplotlib](https://matplotlib.org/) posteriormente.\n",
    "\n",
    "Observe que teremos que remodelar os dados de sua forma 1D atual de 784 pixels, para uma forma 2D de 28x28 pixels para dar sentido à imagem:"
   ]
  },
  {
   "cell_type": "code",
   "execution_count": null,
   "metadata": {},
   "outputs": [],
   "source": [
    "import matplotlib.pyplot as plt\n",
    "plt.figure(figsize=(40,40))\n",
    "\n",
    "num_images = 20\n",
    "for i in range(num_images):\n",
    "    row = x_train[i]\n",
    "    label = y_train[i]\n",
    "    \n",
    "    image = row.reshape(28,28)\n",
    "    plt.subplot(1, num_images, i+1)\n",
    "    plt.title(label, fontdict={'fontsize': 30})\n",
    "    plt.axis('off')\n",
    "    plt.imshow(image, cmap='gray')"
   ]
  },
  {
   "attachments": {},
   "cell_type": "markdown",
   "metadata": {},
   "source": [
    "## Exercício: Normalize os dados da imagem"
   ]
  },
  {
   "attachments": {},
   "cell_type": "markdown",
   "metadata": {},
   "source": [
    "Como fizemos com o conjunto de dados MNIST, vamos normalizar os dados da imagem, o que significa que seus valores de pixel, em vez de estarem entre 0 e 255 como estão atualmente:"
   ]
  },
  {
   "cell_type": "code",
   "execution_count": null,
   "metadata": {},
   "outputs": [],
   "source": [
    "x_train.min()"
   ]
  },
  {
   "cell_type": "code",
   "execution_count": null,
   "metadata": {},
   "outputs": [],
   "source": [
    "x_train.max()"
   ]
  },
  {
   "attachments": {},
   "cell_type": "markdown",
   "metadata": {},
   "source": [
    "...devem ser valores de ponto flutuante entre 0 e 1. Use a seguinte célula para trabalhar. Se você ficar preso, veja a solução abaixo."
   ]
  },
  {
   "cell_type": "code",
   "execution_count": null,
   "metadata": {},
   "outputs": [],
   "source": [
    "# TODO: Normalize x_train e x_valid."
   ]
  },
  {
   "attachments": {},
   "cell_type": "markdown",
   "metadata": {},
   "source": [
    "### Solution"
   ]
  },
  {
   "attachments": {},
   "cell_type": "markdown",
   "metadata": {},
   "source": [
    "Clique no '...' abaixo para mostrar a solução."
   ]
  },
  {
   "cell_type": "code",
   "execution_count": null,
   "metadata": {
    "jupyter": {
     "source_hidden": true
    }
   },
   "outputs": [],
   "source": [
    "# SOLUTION\n",
    "x_train = x_train / 255\n",
    "x_valid = x_valid / 255"
   ]
  },
  {
   "attachments": {},
   "cell_type": "markdown",
   "metadata": {},
   "source": [
    "## Exercício: Categorizar os rótulos"
   ]
  },
  {
   "attachments": {},
   "cell_type": "markdown",
   "metadata": {},
   "source": [
    "Como fizemos com o conjunto de dados MNIST, vamos codificar categoricamente os rótulos. Lembre-se de que podemos usar o método [keras.utils.to_categorical](https://www.tensorflow.org/api_docs/python/tf/keras/utils/to_categorical) para fazer isso passando os valores a serem codificados e, o número de categorias para codificá-lo. Faça o seu trabalho na célula abaixo. Importamos `keras` e definimos o número de categorias (24) para você."
   ]
  },
  {
   "cell_type": "code",
   "execution_count": null,
   "metadata": {},
   "outputs": [],
   "source": [
    "import tensorflow.keras as keras\n",
    "num_classes = 24"
   ]
  },
  {
   "cell_type": "code",
   "execution_count": null,
   "metadata": {},
   "outputs": [],
   "source": [
    "# TODO: Categorically encode y_train and y_valid."
   ]
  },
  {
   "attachments": {},
   "cell_type": "markdown",
   "metadata": {},
   "source": [
    "### Solução"
   ]
  },
  {
   "attachments": {},
   "cell_type": "markdown",
   "metadata": {},
   "source": [
    "Clique no '...' abaixo para mostrar a solução."
   ]
  },
  {
   "cell_type": "code",
   "execution_count": null,
   "metadata": {
    "jupyter": {
     "source_hidden": true
    }
   },
   "outputs": [],
   "source": [
    "# SOLUTION\n",
    "y_train = keras.utils.to_categorical(y_train, num_classes)\n",
    "y_valid = keras.utils.to_categorical(y_valid, num_classes)"
   ]
  },
  {
   "attachments": {},
   "cell_type": "markdown",
   "metadata": {},
   "source": [
    "## Exercício: Construir o Modelo"
   ]
  },
  {
   "attachments": {},
   "cell_type": "markdown",
   "metadata": {},
   "source": [
    "Os dados estão todos preparados, temos imagens normalizadas para treinamento e validação, bem como rótulos codificados categoricamente para treinamento e validação.\n",
    "\n",
    "Para este exercício vamos construir um modelo sequencial. Assim como da última vez, construa um modelo que:\n",
    "* Tem uma camada de entrada densa. Essa camada deve conter 512 neurônios, usar a função de ativação `relu` e esperar imagens de entrada com uma forma de `(784,)`\n",
    "* Possui uma segunda camada densa com 512 neurônios que usa a função de ativação `relu`\n",
    "* Tem uma camada de saída densa com neurônios igual ao número de classes, usando a função de ativação `softmax`\n",
    "\n",
    "Faça seu trabalho na célula abaixo, criando uma variável `model` para armazenar o modelo. Importamos a classe de modelo Keras [Sequental](https://www.tensorflow.org/api_docs/python/tf/keras/Sequential) e [Dense](https://www.tensorflow.org/api_docs/python /tf/keras/layers/Dense) para você começar. Revele a solução abaixo para uma dica:"
   ]
  },
  {
   "cell_type": "code",
   "execution_count": null,
   "metadata": {},
   "outputs": [],
   "source": [
    "from tensorflow.keras.models import Sequential\n",
    "from tensorflow.keras.layers import Dense"
   ]
  },
  {
   "cell_type": "code",
   "execution_count": null,
   "metadata": {},
   "outputs": [],
   "source": [
    "# TODO: construa um modelo seguindo as orientações acima."
   ]
  },
  {
   "attachments": {},
   "cell_type": "markdown",
   "metadata": {},
   "source": [
    "### Solução"
   ]
  },
  {
   "attachments": {},
   "cell_type": "markdown",
   "metadata": {},
   "source": [
    "Clique no '...' abaixo para mostrar a solução."
   ]
  },
  {
   "cell_type": "code",
   "execution_count": null,
   "metadata": {
    "jupyter": {
     "source_hidden": true
    }
   },
   "outputs": [],
   "source": [
    "# SOLUTION\n",
    "model = Sequential()\n",
    "model.add(Dense(units = 512, activation='relu', input_shape=(784,)))\n",
    "model.add(Dense(units = 512, activation='relu'))\n",
    "model.add(Dense(units = num_classes, activation='softmax'))"
   ]
  },
  {
   "attachments": {},
   "cell_type": "markdown",
   "metadata": {},
   "source": [
    "## Resumindo o Modelo"
   ]
  },
  {
   "attachments": {},
   "cell_type": "markdown",
   "metadata": {},
   "source": [
    "Execute a célula abaixo para resumir o modelo que você acabou de criar:"
   ]
  },
  {
   "cell_type": "code",
   "execution_count": null,
   "metadata": {},
   "outputs": [],
   "source": [
    "model.summary()"
   ]
  },
  {
   "attachments": {},
   "cell_type": "markdown",
   "metadata": {},
   "source": [
    "## Compilando o Modelo"
   ]
  },
  {
   "attachments": {},
   "cell_type": "markdown",
   "metadata": {},
   "source": [
    "Iremos [compilar](https://www.tensorflow.org/api_docs/python/tf/keras/Sequential#compile) nosso modelo com as mesmas opções de antes, usando [categorical crossentropy](https://www. tensorflow.org/api_docs/python/tf/keras/losses/CategoricalCrossentropy) para refletir o fato de que queremos nos encaixar em uma das muitas categorias e medir a precisão do nosso modelo:"
   ]
  },
  {
   "cell_type": "code",
   "execution_count": null,
   "metadata": {},
   "outputs": [],
   "source": [
    "model.compile(loss='categorical_crossentropy', metrics=['accuracy'])"
   ]
  },
  {
   "attachments": {},
   "cell_type": "markdown",
   "metadata": {},
   "source": [
    "## Exercício: Treine o Modelo"
   ]
  },
  {
   "attachments": {},
   "cell_type": "markdown",
   "metadata": {},
   "source": [
    "Use o método `fit` do modelo para treiná-lo por 20 épocas usando as imagens e rótulos de treinamento e validação criados acima:"
   ]
  },
  {
   "cell_type": "code",
   "execution_count": null,
   "metadata": {},
   "outputs": [],
   "source": [
    "# TODO: Treine o modelo por 20 epochs"
   ]
  },
  {
   "attachments": {},
   "cell_type": "markdown",
   "metadata": {},
   "source": [
    "### Solução"
   ]
  },
  {
   "attachments": {},
   "cell_type": "markdown",
   "metadata": {},
   "source": [
    "Clique no '...' abaixo para mostrar a solução."
   ]
  },
  {
   "cell_type": "code",
   "execution_count": null,
   "metadata": {
    "jupyter": {
     "source_hidden": true
    }
   },
   "outputs": [],
   "source": [
    "# SOLUTION\n",
    "model.fit(x_train, y_train, epochs=20, verbose=1, validation_data=(x_valid, y_valid))"
   ]
  },
  {
   "attachments": {},
   "cell_type": "markdown",
   "metadata": {},
   "source": [
    "## Discussão: O que aconteceu?"
   ]
  },
  {
   "attachments": {},
   "cell_type": "markdown",
   "metadata": {},
   "source": [
    "Podemos ver que a precisão do treinamento atingiu um nível bastante alto, mas a precisão da validação não foi tão alta. O que aconteceu aqui?\n",
    "\n",
    "Pense um pouco antes de clicar no '...' abaixo para revelar a resposta."
   ]
  },
  {
   "attachments": {},
   "cell_type": "markdown",
   "metadata": {
    "jupyter": {
     "source_hidden": true
    }
   },
   "source": [
    "`#SOLUÇÃO`\n",
    "Este é um exemplo do modelo aprendendo a categorizar os dados de treinamento, mas com desempenho ruim em relação a novos dados nos quais não foi treinado. Essencialmente, ele está memorizando o conjunto de dados, mas não obtendo uma compreensão robusta e geral do problema. Este é um problema comum chamado *overfitting*. Discutiremos o overfitting nas próximas duas palestras, bem como algumas maneiras de abordá-lo."
   ]
  },
  {
   "attachments": {},
   "cell_type": "markdown",
   "metadata": {},
   "source": [
    "## Resumo"
   ]
  },
  {
   "attachments": {},
   "cell_type": "markdown",
   "metadata": {},
   "source": [
    "Nesta seção, você construiu sua própria rede neural para realizar uma classificação de imagem bastante precisa. Parabéns!\n",
    "\n",
    "Neste ponto, devemos estar um pouco familiarizados com o processo de carregamento de dados (incluindo rótulos), preparando-os, criando um modelo e, em seguida, treinando o modelo com dados preparados."
   ]
  },
  {
   "attachments": {},
   "cell_type": "markdown",
   "metadata": {},
   "source": [
    "### Resetar o ambiente\n",
    "Antes de prosseguir, execute a célula a seguir para resetar o ambiente. Isso é necessário para passar para o próximo notebook."
   ]
  },
  {
   "cell_type": "code",
   "execution_count": null,
   "metadata": {},
   "outputs": [],
   "source": [
    "import os\n",
    "os._exit(00)"
   ]
  },
  {
   "attachments": {},
   "cell_type": "markdown",
   "metadata": {},
   "source": [
    "## Next"
   ]
  },
  {
   "attachments": {},
   "cell_type": "markdown",
   "metadata": {},
   "source": [
    "Agora que você construiu alguns modelos bastante básicos e eficazes, começaremos a aprender sobre modelos mais sofisticados, incluindo *Redes Neurais Convolucionais* (*Convolutional Neural Networks*)."
   ]
  }
 ],
 "metadata": {
  "kernelspec": {
   "display_name": "Python 3 (ipykernel)",
   "language": "python",
   "name": "python3"
  },
  "language_info": {
   "codemirror_mode": {
    "name": "ipython",
    "version": 3
   },
   "file_extension": ".py",
   "mimetype": "text/x-python",
   "name": "python",
   "nbconvert_exporter": "python",
   "pygments_lexer": "ipython3",
   "version": "3.10.11"
  }
 },
 "nbformat": 4,
 "nbformat_minor": 4
}
