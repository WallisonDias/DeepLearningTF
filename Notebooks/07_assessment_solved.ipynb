{
 "cells": [
  {
   "cell_type": "markdown",
   "metadata": {},
   "source": [
    "<center><a href=\"https://www.nvidia.com/dli\"> <img src=\"images/DLI_Header.png\" alt=\"Header\" style=\"width: 400px;\"/> </a></center>"
   ]
  },
  {
   "cell_type": "markdown",
   "metadata": {},
   "source": [
    "# Assessment"
   ]
  },
  {
   "cell_type": "markdown",
   "metadata": {},
   "source": [
    "Congratulations on going through today's course! Hopefully, you've learned some valuable skills along the way and had fun doing it. Now it's time to put those skills to the test. In this assessment, you will train a new model that is able to recognize fresh and rotten fruit. You will need to get the model to a validation accuracy of `92%` in order to pass the assessment, though we challenge you to do even better if you can. You will have the use the skills that you learned in the previous exercises. Specifically, we suggest using some combination of transfer learning, data augmentation, and fine tuning. Once you have trained the model to be at least 92% accurate on the validation dataset, save your model, and then assess its accuracy. Let's get started! "
   ]
  },
  {
   "cell_type": "markdown",
   "metadata": {},
   "source": [
    "## The Dataset"
   ]
  },
  {
   "cell_type": "markdown",
   "metadata": {},
   "source": [
    "In this exercise, you will train a model to recognize fresh and rotten fruits. The dataset comes from [Kaggle](https://www.kaggle.com/sriramr/fruits-fresh-and-rotten-for-classification), a great place to go if you're interested in starting a project after this class. The dataset structure is in the `data/fruits` folder. There are 6 categories of fruits: fresh apples, fresh oranges, fresh bananas, rotten apples, rotten oranges, and rotten bananas. This will mean that your model will require an output layer of 6 neurons to do the categorization successfully. You'll also need to compile the model with `categorical_crossentropy`, as we have more than two categories."
   ]
  },
  {
   "cell_type": "markdown",
   "metadata": {},
   "source": [
    "<img src=\"./images/fruits.png\" style=\"width: 600px;\">"
   ]
  },
  {
   "cell_type": "markdown",
   "metadata": {},
   "source": [
    "## Load ImageNet Base Model"
   ]
  },
  {
   "cell_type": "markdown",
   "metadata": {},
   "source": [
    "We encourage you to start with a model pretrained on ImageNet. Load the model with the correct weights, set an input shape, and choose to remove the last layers of the model. Remember that images have three dimensions: a height, and width, and a number of channels. Because these pictures are in color, there will be three channels for red, green, and blue. We've filled in the input shape for you. This cannot be changed or the assessment will fail. If you need a reference for setting up the pretrained model, please take a look at [notebook 05b](05b_presidential_doggy_door.ipynb) where we implemented transfer learning."
   ]
  },
  {
   "cell_type": "code",
   "execution_count": 1,
   "metadata": {},
   "outputs": [
    {
     "name": "stdout",
     "output_type": "stream",
     "text": [
      "Downloading data from https://storage.googleapis.com/tensorflow/keras-applications/vgg16/vgg16_weights_tf_dim_ordering_tf_kernels_notop.h5\n",
      "58892288/58889256 [==============================] - 1s 0us/step\n"
     ]
    }
   ],
   "source": [
    "from tensorflow import keras\n",
    "\n",
    "base_model = keras.applications.VGG16(\n",
    "    weights='imagenet',\n",
    "    input_shape=(224, 224, 3),\n",
    "    include_top=False)"
   ]
  },
  {
   "cell_type": "markdown",
   "metadata": {},
   "source": [
    "## Freeze Base Model"
   ]
  },
  {
   "cell_type": "markdown",
   "metadata": {},
   "source": [
    "Next, we suggest freezing the base model, as done in [notebook 05b](05b_presidential_doggy_door.ipynb). This is done so that all the learning from the ImageNet dataset does not get destroyed in the initial training."
   ]
  },
  {
   "cell_type": "code",
   "execution_count": 2,
   "metadata": {},
   "outputs": [],
   "source": [
    "# Freeze base model\n",
    "base_model.trainable = False"
   ]
  },
  {
   "cell_type": "markdown",
   "metadata": {},
   "source": [
    "## Add Layers to Model"
   ]
  },
  {
   "cell_type": "markdown",
   "metadata": {},
   "source": [
    "Now it's time to add layers to the pretrained model. [Notebook 05b](05b_presidential_doggy_door.ipynb) can be used as a guide. Pay close attention to the last dense layer and make sure it has the correct number of neurons to classify the different types of fruit."
   ]
  },
  {
   "cell_type": "code",
   "execution_count": 3,
   "metadata": {},
   "outputs": [],
   "source": [
    "# Create inputs with correct shape\n",
    "inputs = keras.Input(shape=(224, 224, 3))\n",
    "\n",
    "x = base_model(inputs, training=False)\n",
    "\n",
    "# Add pooling layer or flatten layer\n",
    "x = keras.layers.GlobalAveragePooling2D()(x)\n",
    "\n",
    "# Add final dense layer\n",
    "outputs = keras.layers.Dense(6, activation = 'softmax')(x)\n",
    "\n",
    "# Combine inputs and outputs to create model\n",
    "model = keras.Model(inputs, outputs)"
   ]
  },
  {
   "cell_type": "code",
   "execution_count": 4,
   "metadata": {},
   "outputs": [
    {
     "name": "stdout",
     "output_type": "stream",
     "text": [
      "Model: \"model\"\n",
      "_________________________________________________________________\n",
      "Layer (type)                 Output Shape              Param #   \n",
      "=================================================================\n",
      "input_2 (InputLayer)         [(None, 224, 224, 3)]     0         \n",
      "_________________________________________________________________\n",
      "vgg16 (Model)                (None, 7, 7, 512)         14714688  \n",
      "_________________________________________________________________\n",
      "global_average_pooling2d (Gl (None, 512)               0         \n",
      "_________________________________________________________________\n",
      "dense (Dense)                (None, 6)                 3078      \n",
      "=================================================================\n",
      "Total params: 14,717,766\n",
      "Trainable params: 3,078\n",
      "Non-trainable params: 14,714,688\n",
      "_________________________________________________________________\n"
     ]
    }
   ],
   "source": [
    "model.summary()"
   ]
  },
  {
   "cell_type": "markdown",
   "metadata": {},
   "source": [
    "## Compile Model"
   ]
  },
  {
   "cell_type": "markdown",
   "metadata": {},
   "source": [
    "Now it's time to compile the model with loss and metrics options. Remember that we're training on a number of different categories, rather than a binary classification problem."
   ]
  },
  {
   "cell_type": "code",
   "execution_count": 5,
   "metadata": {},
   "outputs": [],
   "source": [
    "model.compile(loss = \"categorical_crossentropy\" , metrics = ['accuracy'])"
   ]
  },
  {
   "cell_type": "markdown",
   "metadata": {},
   "source": [
    "## Augment the Data"
   ]
  },
  {
   "cell_type": "markdown",
   "metadata": {},
   "source": [
    "If you'd like, try to augment the data to improve the dataset. Feel free to look at [notebook 04a](04a_asl_augmentation.ipynb) and [notebook 05b](05b_presidential_doggy_door.ipynb) for augmentation examples. There is also documentation for the [Keras ImageDataGenerator class](https://keras.io/api/preprocessing/image/#imagedatagenerator-class). This step is optional, but it may be helpful to get to 92% accuracy."
   ]
  },
  {
   "cell_type": "code",
   "execution_count": 6,
   "metadata": {},
   "outputs": [],
   "source": [
    "from tensorflow.keras.preprocessing.image import ImageDataGenerator\n",
    "\n",
    "datagen_train = ImageDataGenerator(\n",
    "    samplewise_center=True,  # set each sample mean to 0\n",
    "    rotation_range=10,  # randomly rotate images in the range (degrees, 0 to 180)\n",
    "    zoom_range=0.1,  # Randomly zoom image\n",
    "    width_shift_range=0.1,  # randomly shift images horizontally (fraction of total width)\n",
    "    height_shift_range=0.1,  # randomly shift images vertically (fraction of total height)\n",
    "    horizontal_flip=True,  # randomly flip images\n",
    "    vertical_flip=False,)\n",
    "\n",
    "datagen_valid = ImageDataGenerator(samplewise_center=True)"
   ]
  },
  {
   "cell_type": "markdown",
   "metadata": {},
   "source": [
    "## Load Dataset"
   ]
  },
  {
   "cell_type": "markdown",
   "metadata": {},
   "source": [
    "Now it's time to load the train and validation datasets. Pick the right folders, as well as the right `target_size` of the images (it needs to match the height and width input of the model you've created). For a reference, check out [notebook 05b](05b_presidential_doggy_door.ipynb)."
   ]
  },
  {
   "cell_type": "code",
   "execution_count": 7,
   "metadata": {},
   "outputs": [
    {
     "name": "stdout",
     "output_type": "stream",
     "text": [
      "Found 1182 images belonging to 6 classes.\n",
      "Found 329 images belonging to 6 classes.\n"
     ]
    }
   ],
   "source": [
    "# load and iterate training dataset\n",
    "train_it = datagen_train.flow_from_directory(\n",
    "    'data/fruits/train',\n",
    "    target_size=(244, 244),\n",
    "    color_mode=\"rgb\",\n",
    "    class_mode=\"categorical\",\n",
    ")\n",
    "# load and iterate validation dataset\n",
    "valid_it = datagen_valid.flow_from_directory(\n",
    "    'data/fruits/valid',\n",
    "    target_size=(244, 244),\n",
    "    color_mode=\"rgb\",\n",
    "    class_mode=\"categorical\",\n",
    ")"
   ]
  },
  {
   "cell_type": "markdown",
   "metadata": {},
   "source": [
    "## Train the Model"
   ]
  },
  {
   "cell_type": "markdown",
   "metadata": {},
   "source": [
    "Time to train the model! Pass the `train` and `valid` iterators into the `fit` function, as well as setting the desired number of epochs."
   ]
  },
  {
   "cell_type": "code",
   "execution_count": 8,
   "metadata": {},
   "outputs": [
    {
     "name": "stdout",
     "output_type": "stream",
     "text": [
      "Epoch 1/50\n",
      "37/36 [==============================] - 30s 807ms/step - loss: 2.3102 - accuracy: 0.5076 - val_loss: 0.8279 - val_accuracy: 0.7933\n",
      "Epoch 2/50\n",
      "37/36 [==============================] - 20s 529ms/step - loss: 0.6008 - accuracy: 0.8113 - val_loss: 0.4523 - val_accuracy: 0.8815\n",
      "Epoch 3/50\n",
      "37/36 [==============================] - 19s 523ms/step - loss: 0.3118 - accuracy: 0.8883 - val_loss: 0.2931 - val_accuracy: 0.8997\n",
      "Epoch 4/50\n",
      "37/36 [==============================] - 20s 528ms/step - loss: 0.2057 - accuracy: 0.9289 - val_loss: 0.2367 - val_accuracy: 0.9027\n",
      "Epoch 5/50\n",
      "37/36 [==============================] - 19s 523ms/step - loss: 0.1451 - accuracy: 0.9475 - val_loss: 0.2056 - val_accuracy: 0.9574\n",
      "Epoch 6/50\n",
      "37/36 [==============================] - 19s 520ms/step - loss: 0.1031 - accuracy: 0.9636 - val_loss: 0.1702 - val_accuracy: 0.9574\n",
      "Epoch 7/50\n",
      "37/36 [==============================] - 19s 522ms/step - loss: 0.0830 - accuracy: 0.9704 - val_loss: 0.1894 - val_accuracy: 0.9574\n",
      "Epoch 8/50\n",
      "37/36 [==============================] - 19s 523ms/step - loss: 0.0845 - accuracy: 0.9695 - val_loss: 0.1453 - val_accuracy: 0.9605\n",
      "Epoch 9/50\n",
      "37/36 [==============================] - 19s 524ms/step - loss: 0.0573 - accuracy: 0.9822 - val_loss: 0.2001 - val_accuracy: 0.9453\n",
      "Epoch 10/50\n",
      "37/36 [==============================] - 19s 525ms/step - loss: 0.0616 - accuracy: 0.9780 - val_loss: 0.1714 - val_accuracy: 0.9605\n",
      "Epoch 11/50\n",
      "37/36 [==============================] - 19s 521ms/step - loss: 0.0565 - accuracy: 0.9848 - val_loss: 0.1303 - val_accuracy: 0.9635\n",
      "Epoch 12/50\n",
      "37/36 [==============================] - 19s 519ms/step - loss: 0.0426 - accuracy: 0.9848 - val_loss: 0.1356 - val_accuracy: 0.9666\n",
      "Epoch 13/50\n",
      "37/36 [==============================] - 19s 524ms/step - loss: 0.0313 - accuracy: 0.9898 - val_loss: 0.2270 - val_accuracy: 0.9483\n",
      "Epoch 14/50\n",
      "37/36 [==============================] - 19s 521ms/step - loss: 0.0270 - accuracy: 0.9915 - val_loss: 0.1405 - val_accuracy: 0.9574\n",
      "Epoch 15/50\n",
      "37/36 [==============================] - 19s 517ms/step - loss: 0.0254 - accuracy: 0.9907 - val_loss: 0.1680 - val_accuracy: 0.9483\n",
      "Epoch 16/50\n",
      "37/36 [==============================] - 19s 524ms/step - loss: 0.0283 - accuracy: 0.9915 - val_loss: 0.1531 - val_accuracy: 0.9544\n",
      "Epoch 17/50\n",
      "37/36 [==============================] - 19s 521ms/step - loss: 0.0128 - accuracy: 0.9983 - val_loss: 0.1234 - val_accuracy: 0.9635\n",
      "Epoch 18/50\n",
      "37/36 [==============================] - 19s 521ms/step - loss: 0.0215 - accuracy: 0.9932 - val_loss: 0.1136 - val_accuracy: 0.9696\n",
      "Epoch 19/50\n",
      "37/36 [==============================] - 19s 523ms/step - loss: 0.0147 - accuracy: 0.9966 - val_loss: 0.1849 - val_accuracy: 0.9635\n",
      "Epoch 20/50\n",
      "37/36 [==============================] - 19s 523ms/step - loss: 0.0217 - accuracy: 0.9915 - val_loss: 0.1076 - val_accuracy: 0.9696\n",
      "Epoch 21/50\n",
      "37/36 [==============================] - 19s 521ms/step - loss: 0.0160 - accuracy: 0.9958 - val_loss: 0.1475 - val_accuracy: 0.9696\n",
      "Epoch 22/50\n",
      "37/36 [==============================] - 19s 527ms/step - loss: 0.0162 - accuracy: 0.9949 - val_loss: 0.1182 - val_accuracy: 0.9757\n",
      "Epoch 23/50\n",
      "37/36 [==============================] - 20s 530ms/step - loss: 0.0111 - accuracy: 0.9966 - val_loss: 0.1323 - val_accuracy: 0.9666\n",
      "Epoch 24/50\n",
      "37/36 [==============================] - 19s 526ms/step - loss: 0.0121 - accuracy: 0.9958 - val_loss: 0.1251 - val_accuracy: 0.9757\n",
      "Epoch 25/50\n",
      "37/36 [==============================] - 19s 524ms/step - loss: 0.0077 - accuracy: 0.9975 - val_loss: 0.1418 - val_accuracy: 0.9726\n",
      "Epoch 26/50\n",
      "37/36 [==============================] - 19s 526ms/step - loss: 0.0129 - accuracy: 0.9966 - val_loss: 0.1162 - val_accuracy: 0.9635\n",
      "Epoch 27/50\n",
      "37/36 [==============================] - 19s 522ms/step - loss: 0.0070 - accuracy: 0.9983 - val_loss: 0.1180 - val_accuracy: 0.9696\n",
      "Epoch 28/50\n",
      "37/36 [==============================] - 19s 525ms/step - loss: 0.0123 - accuracy: 0.9966 - val_loss: 0.0309 - val_accuracy: 0.9878\n",
      "Epoch 29/50\n",
      "37/36 [==============================] - 19s 521ms/step - loss: 0.0047 - accuracy: 1.0000 - val_loss: 0.1419 - val_accuracy: 0.9726\n",
      "Epoch 30/50\n",
      "37/36 [==============================] - 19s 517ms/step - loss: 0.0085 - accuracy: 0.9966 - val_loss: 0.1565 - val_accuracy: 0.9635\n",
      "Epoch 31/50\n",
      "37/36 [==============================] - 19s 524ms/step - loss: 0.0084 - accuracy: 0.9975 - val_loss: 0.0827 - val_accuracy: 0.9787\n",
      "Epoch 32/50\n",
      "37/36 [==============================] - 19s 521ms/step - loss: 0.0070 - accuracy: 0.9983 - val_loss: 0.1556 - val_accuracy: 0.9666\n",
      "Epoch 33/50\n",
      "37/36 [==============================] - 19s 516ms/step - loss: 0.0046 - accuracy: 0.9992 - val_loss: 0.1158 - val_accuracy: 0.9696\n",
      "Epoch 34/50\n",
      "37/36 [==============================] - 19s 518ms/step - loss: 0.0079 - accuracy: 0.9975 - val_loss: 0.1444 - val_accuracy: 0.9696\n",
      "Epoch 35/50\n",
      "37/36 [==============================] - 19s 525ms/step - loss: 0.0076 - accuracy: 0.9983 - val_loss: 0.1995 - val_accuracy: 0.9514\n",
      "Epoch 36/50\n",
      "37/36 [==============================] - 19s 522ms/step - loss: 0.0041 - accuracy: 0.9992 - val_loss: 0.0863 - val_accuracy: 0.9757\n",
      "Epoch 37/50\n",
      "37/36 [==============================] - 19s 524ms/step - loss: 0.0046 - accuracy: 0.9983 - val_loss: 0.1473 - val_accuracy: 0.9666\n",
      "Epoch 38/50\n",
      "37/36 [==============================] - 19s 522ms/step - loss: 0.0070 - accuracy: 0.9992 - val_loss: 0.2417 - val_accuracy: 0.9726\n",
      "Epoch 39/50\n",
      "37/36 [==============================] - 19s 522ms/step - loss: 0.0034 - accuracy: 1.0000 - val_loss: 0.1265 - val_accuracy: 0.9605\n",
      "Epoch 40/50\n",
      "37/36 [==============================] - 19s 521ms/step - loss: 0.0033 - accuracy: 0.9992 - val_loss: 0.1130 - val_accuracy: 0.9726\n",
      "Epoch 41/50\n",
      "37/36 [==============================] - 20s 530ms/step - loss: 0.0030 - accuracy: 1.0000 - val_loss: 0.2864 - val_accuracy: 0.9605\n",
      "Epoch 42/50\n",
      "37/36 [==============================] - 19s 523ms/step - loss: 0.0028 - accuracy: 0.9992 - val_loss: 0.0782 - val_accuracy: 0.9787\n",
      "Epoch 43/50\n",
      "37/36 [==============================] - 19s 520ms/step - loss: 0.0049 - accuracy: 0.9983 - val_loss: 0.2099 - val_accuracy: 0.9666\n",
      "Epoch 44/50\n",
      "37/36 [==============================] - 19s 518ms/step - loss: 0.0034 - accuracy: 0.9992 - val_loss: 0.1284 - val_accuracy: 0.9666\n",
      "Epoch 45/50\n",
      "37/36 [==============================] - 19s 523ms/step - loss: 0.0037 - accuracy: 1.0000 - val_loss: 0.1372 - val_accuracy: 0.9666\n",
      "Epoch 46/50\n",
      "37/36 [==============================] - 19s 522ms/step - loss: 0.0034 - accuracy: 0.9992 - val_loss: 0.1837 - val_accuracy: 0.9666\n",
      "Epoch 47/50\n",
      "37/36 [==============================] - 19s 523ms/step - loss: 0.0019 - accuracy: 1.0000 - val_loss: 0.1270 - val_accuracy: 0.9666\n",
      "Epoch 48/50\n",
      "37/36 [==============================] - 19s 521ms/step - loss: 0.0034 - accuracy: 0.9992 - val_loss: 0.1315 - val_accuracy: 0.9696\n",
      "Epoch 49/50\n",
      "37/36 [==============================] - 19s 523ms/step - loss: 0.0021 - accuracy: 1.0000 - val_loss: 0.1536 - val_accuracy: 0.9848\n",
      "Epoch 50/50\n",
      "37/36 [==============================] - 19s 521ms/step - loss: 0.0032 - accuracy: 0.9992 - val_loss: 0.1222 - val_accuracy: 0.9666\n"
     ]
    },
    {
     "data": {
      "text/plain": [
       "<tensorflow.python.keras.callbacks.History at 0x7ff64c5f1128>"
      ]
     },
     "execution_count": 8,
     "metadata": {},
     "output_type": "execute_result"
    }
   ],
   "source": [
    "model.fit(train_it,\n",
    "          validation_data=valid_it,\n",
    "          steps_per_epoch=train_it.samples/train_it.batch_size,\n",
    "          validation_steps=valid_it.samples/valid_it.batch_size,\n",
    "          epochs=50)"
   ]
  },
  {
   "cell_type": "markdown",
   "metadata": {},
   "source": [
    "## Unfreeze Model for Fine Tuning"
   ]
  },
  {
   "cell_type": "markdown",
   "metadata": {},
   "source": [
    "If you have reached 92% validation accuracy already, this next step is optional. If not, we suggest fine tuning the model with a very low learning rate."
   ]
  },
  {
   "cell_type": "code",
   "execution_count": 11,
   "metadata": {},
   "outputs": [
    {
     "ename": "TypeError",
     "evalue": "categorical_accuracy() missing 2 required positional arguments: 'y_true' and 'y_pred'",
     "output_type": "error",
     "traceback": [
      "\u001b[0;31m---------------------------------------------------------------------------\u001b[0m",
      "\u001b[0;31mTypeError\u001b[0m                                 Traceback (most recent call last)",
      "\u001b[0;32m<ipython-input-11-b71c9116427b>\u001b[0m in \u001b[0;36m<module>\u001b[0;34m\u001b[0m\n\u001b[1;32m      5\u001b[0m model.compile(optimizer=keras.optimizers.RMSprop(learning_rate = 0.00001),\n\u001b[1;32m      6\u001b[0m               \u001b[0mloss\u001b[0m \u001b[0;34m=\u001b[0m \u001b[0;34m'categorical_crossentropy'\u001b[0m  \u001b[0;34m,\u001b[0m\u001b[0;34m\u001b[0m\u001b[0;34m\u001b[0m\u001b[0m\n\u001b[0;32m----> 7\u001b[0;31m               metrics = keras.metrics.categorical_accuracy())\n\u001b[0m",
      "\u001b[0;31mTypeError\u001b[0m: categorical_accuracy() missing 2 required positional arguments: 'y_true' and 'y_pred'"
     ]
    }
   ],
   "source": [
    "# Unfreeze the base model\n",
    "base_model.trainable = True\n",
    "\n",
    "# Compile the model with a low learning rate\n",
    "model.compile(optimizer=keras.optimizers.RMSprop(learning_rate = 0.00001),\n",
    "              loss = 'categorical_crossentropy'  ,\n",
    "              metrics = keras.metrics.categorical_accuracy())"
   ]
  },
  {
   "cell_type": "code",
   "execution_count": null,
   "metadata": {},
   "outputs": [],
   "source": [
    "model.fit(train_itin_it,\n",
    "          validation_data=valid_it,\n",
    "          steps_per_epoch=train_it.samples/train_it.batch_size,\n",
    "          validation_steps=valid_it.samples/valid_it.batch_size,\n",
    "          epochs=10)"
   ]
  },
  {
   "cell_type": "markdown",
   "metadata": {},
   "source": [
    "## Evaluate the Model"
   ]
  },
  {
   "cell_type": "markdown",
   "metadata": {},
   "source": [
    "Hopefully, you now have a model that has a validation accuracy of 92% or higher. If not, you may want to go back and either run more epochs of training, or adjust your data augmentation. \n",
    "\n",
    "Once you are satisfied with the validation accuracy, evaluate the model by executing the following cell. The evaluate function will return a tuple, where the first value is your loss, and the second value is your accuracy. To pass, the model will need have an accuracy value of `92% or higher`. "
   ]
  },
  {
   "cell_type": "code",
   "execution_count": 12,
   "metadata": {},
   "outputs": [
    {
     "name": "stdout",
     "output_type": "stream",
     "text": [
      "11/10 [================================] - 2s 160ms/step - loss: 0.0932 - accuracy: 0.9787\n"
     ]
    },
    {
     "data": {
      "text/plain": [
       "[0.09318619221448898, 0.978723406791687]"
      ]
     },
     "execution_count": 12,
     "metadata": {},
     "output_type": "execute_result"
    }
   ],
   "source": [
    "model.evaluate(valid_it, steps=valid_it.samples/valid_it.batch_size)"
   ]
  },
  {
   "cell_type": "markdown",
   "metadata": {},
   "source": [
    "## Run the Assessment"
   ]
  },
  {
   "cell_type": "markdown",
   "metadata": {},
   "source": [
    "To assess your model run the following two cells.\n",
    "\n",
    "**NOTE:** `run_assessment` assumes your model is named `model` and your validation data iterator is called `valid_it`. If for any reason you have modified these variable names, please update the names of the arguments passed to `run_assessment`."
   ]
  },
  {
   "cell_type": "code",
   "execution_count": 13,
   "metadata": {},
   "outputs": [],
   "source": [
    "from run_assessment import run_assessment"
   ]
  },
  {
   "cell_type": "code",
   "execution_count": null,
   "metadata": {},
   "outputs": [
    {
     "name": "stdout",
     "output_type": "stream",
     "text": [
      "Evaluating model 5 times to obtain average accuracy...\n",
      "\n",
      "11/10 [================================] - 2s 159ms/step - loss: 0.1555 - accuracy: 0.9787\n",
      "11/10 [================================] - 2s 158ms/step - loss: 0.1123 - accuracy: 0.9666\n",
      "11/10 [================================] - 2s 161ms/step - loss: 0.1736 - accuracy: 0.9726\n",
      "11/10 [================================] - 2s 171ms/step - loss: 0.1439 - accuracy: 0.9696\n",
      " 8/10 [======================>.......] - ETA: 0s - loss: 0.1688 - accuracy: 0.9727"
     ]
    }
   ],
   "source": [
    "run_assessment(model, valid_it)"
   ]
  },
  {
   "cell_type": "markdown",
   "metadata": {},
   "source": [
    "## Generate a Certificate"
   ]
  },
  {
   "cell_type": "markdown",
   "metadata": {},
   "source": [
    "If you passed the assessment, please return to the course page (shown below) and click the \"ASSESS TASK\" button, which will generate your certificate for the course."
   ]
  },
  {
   "cell_type": "markdown",
   "metadata": {},
   "source": [
    "<img src=\"./images/assess_task.png\" style=\"width: 800px;\">"
   ]
  },
  {
   "cell_type": "markdown",
   "metadata": {},
   "source": [
    "<center><a href=\"https://www.nvidia.com/dli\"> <img src=\"images/DLI_Header.png\" alt=\"Header\" style=\"width: 400px;\"/> </a></center>"
   ]
  }
 ],
 "metadata": {
  "kernelspec": {
   "display_name": "Python 3",
   "language": "python",
   "name": "python3"
  },
  "language_info": {
   "codemirror_mode": {
    "name": "ipython",
    "version": 3
   },
   "file_extension": ".py",
   "mimetype": "text/x-python",
   "name": "python",
   "nbconvert_exporter": "python",
   "pygments_lexer": "ipython3",
   "version": "3.6.9"
  }
 },
 "nbformat": 4,
 "nbformat_minor": 4
}
